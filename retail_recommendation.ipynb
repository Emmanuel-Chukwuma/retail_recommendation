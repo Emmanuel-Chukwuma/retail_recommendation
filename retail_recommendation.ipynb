{
  "cells": [
    {
      "cell_type": "markdown",
      "id": "69e593ec",
      "metadata": {
        "id": "69e593ec"
      },
      "source": [
        "### **Objective:**\n",
        "To understand and gain insights from a retail dataset by performing various exploratory data analyses, data visualization, and data modelling.\n",
        "\n",
        "\n",
        "### **By the end of this project:**\n",
        "\n",
        "* Customers will be grouped in clusters to identify each groups behavoiural pattern\n",
        "\n",
        "* A product recommendation model will be created for better customer experience.\n",
        "\n",
        "\n",
        "### **Dataset Columns:**\n",
        "\n",
        "- **InvoiceNo:** Invoice number. A unique number per invoice.\n",
        "- **StockCode:** Product code. A unique number per product.\n",
        "- **Description:** Product description.\n",
        "- **Quantity:** The number of products sold per invoice.\n",
        "- **InvoiceDate:** The date and time of the invoice.\n",
        "- **UnitPrice:** The price of one unit of the product.\n",
        "- **CustomerID:** Customer identification number.\n",
        "- **Country:** The country where the customer resides.\n"
      ]
    },
    {
      "cell_type": "markdown",
      "id": "5be5c509",
      "metadata": {
        "id": "5be5c509"
      },
      "source": [
        "## 1. Data Preprocessing and Cleaning:\n"
      ]
    },
    {
      "cell_type": "markdown",
      "id": "6a0d4484",
      "metadata": {
        "id": "6a0d4484"
      },
      "source": [
        "1.1. Import necessary libraries and read the dataset:"
      ]
    },
    {
      "cell_type": "code",
      "execution_count": 2,
      "id": "1c634427",
      "metadata": {
        "id": "1c634427"
      },
      "outputs": [],
      "source": [
        "import pandas as pd\n",
        "import matplotlib.pyplot as plt\n",
        "import seaborn as sns\n",
        "import numpy as np\n",
        "from sklearn.preprocessing import StandardScaler\n",
        "from sklearn.cluster import KMeans\n",
        "from sklearn.model_selection import train_test_split\n",
        "from sklearn.ensemble import RandomForestClassifier\n",
        "from sklearn.ensemble import RandomForestRegressor\n",
        "from sklearn.model_selection import train_test_split\n",
        "from sklearn.metrics import *\n",
        "\n",
        "import warnings\n",
        "warnings.simplefilter('once')\n",
        "warnings.filterwarnings('ignore',category=DeprecationWarning)"
      ]
    },
    {
      "cell_type": "markdown",
      "id": "8135c246",
      "metadata": {
        "id": "8135c246"
      },
      "source": [
        "1.2. Display the top 10 rows of the dataframe:"
      ]
    },
    {
      "cell_type": "code",
      "execution_count": null,
      "id": "88804ede",
      "metadata": {
        "colab": {
          "base_uri": "https://localhost:8080/",
          "height": 782
        },
        "id": "88804ede",
        "outputId": "d643c830-5676-48cc-cd66-2bd6bd11ae9a"
      },
      "outputs": [],
      "source": [
        "data = pd.read_csv(r'C:\\Users\\chukw\\OneDrive - St. Clair College\\Data Anaytics for Business_Semester 3\\DAB303 - MARKETING ANALYTICS\\LABS\\project 2\\Sales_data.csv', encoding='ISO-8859-1')\n",
        "data.head(10)"
      ]
    },
    {
      "cell_type": "markdown",
      "id": "0bc87eac",
      "metadata": {
        "id": "0bc87eac"
      },
      "source": [
        "1.3. Check for missing values:\n",
        "\n"
      ]
    },
    {
      "cell_type": "code",
      "execution_count": null,
      "id": "d8e6d609",
      "metadata": {
        "colab": {
          "base_uri": "https://localhost:8080/",
          "height": 389
        },
        "id": "d8e6d609",
        "outputId": "c91cfc0c-168a-423b-b4f5-6fbab45a50d4"
      },
      "outputs": [],
      "source": [
        "data.isna().sum()"
      ]
    },
    {
      "cell_type": "markdown",
      "id": "347081eb",
      "metadata": {
        "id": "347081eb"
      },
      "source": [
        "1.4. Convert the InvoiceDate column to datetime format:\n",
        "\n"
      ]
    },
    {
      "cell_type": "code",
      "execution_count": null,
      "id": "05f892f6",
      "metadata": {
        "colab": {
          "base_uri": "https://localhost:8080/"
        },
        "id": "05f892f6",
        "outputId": "30be1f65-8def-4c5f-c79f-cfc3de880ac0"
      },
      "outputs": [],
      "source": [
        "data['InvoiceDate'] = pd.to_datetime(data['InvoiceDate'], errors='coerce')\n",
        "data.info()"
      ]
    },
    {
      "cell_type": "markdown",
      "id": "d9efbf30",
      "metadata": {
        "id": "d9efbf30"
      },
      "source": [
        "1.5. Add a new column 'TotalPrice' to the dataframe which is the product of 'UnitPrice' and 'Quantity':\n",
        "\n"
      ]
    },
    {
      "cell_type": "code",
      "execution_count": null,
      "id": "c2eca42b",
      "metadata": {
        "colab": {
          "base_uri": "https://localhost:8080/",
          "height": 261
        },
        "id": "c2eca42b",
        "outputId": "06b0f9f9-d68f-4819-c149-491ef7fa205d"
      },
      "outputs": [],
      "source": [
        "data['TotalPrice'] = data['UnitPrice'] * data['Quantity']\n",
        "data.sample(2)"
      ]
    },
    {
      "cell_type": "markdown",
      "id": "bbfaf538",
      "metadata": {
        "id": "bbfaf538"
      },
      "source": [
        "## 2. Exploratory Data Analysis:\n"
      ]
    },
    {
      "cell_type": "markdown",
      "id": "87e33e5c",
      "metadata": {
        "id": "87e33e5c"
      },
      "source": [
        "2.1. How many unique products are there in the dataset?\n"
      ]
    },
    {
      "cell_type": "code",
      "execution_count": null,
      "id": "75f0651f",
      "metadata": {},
      "outputs": [],
      "source": [
        "print(f'There are {data['StockCode'].nunique()} unique products in the dataset') # stock code may be better because Description may have 1 items described in multiple ways\n",
        "# however each StockCode should be unique to a product"
      ]
    },
    {
      "cell_type": "markdown",
      "id": "1c96b6d4",
      "metadata": {
        "id": "1c96b6d4"
      },
      "source": [
        "2.2. Which are the top 10 products (using StockCode) sold by quantity?\n",
        "\n"
      ]
    },
    {
      "cell_type": "code",
      "execution_count": null,
      "id": "19e34fe3",
      "metadata": {},
      "outputs": [],
      "source": [
        "top_10_products = data.groupby('StockCode')['Quantity'].sum().sort_values(ascending=False).head(10)\n",
        "top_10_products = pd.DataFrame(top_10_products)\n",
        "top_10_products"
      ]
    },
    {
      "cell_type": "markdown",
      "id": "51b9e74d",
      "metadata": {
        "id": "51b9e74d"
      },
      "source": [
        "2.3. How many unique customers are there in the dataset?\n",
        "\n"
      ]
    },
    {
      "cell_type": "code",
      "execution_count": null,
      "id": "73690b78",
      "metadata": {
        "colab": {
          "base_uri": "https://localhost:8080/"
        },
        "id": "73690b78",
        "outputId": "09548ece-b183-4a8a-c776-1ac318170d78"
      },
      "outputs": [],
      "source": [
        "unique_customers = data['CustomerID'].nunique()\n",
        "print(f'There are {unique_customers} unique customers in the dataset')"
      ]
    },
    {
      "cell_type": "markdown",
      "id": "c83e0f75",
      "metadata": {
        "id": "c83e0f75"
      },
      "source": [
        "2.4. Which country has the maximum number of unique customers?\n",
        "\n"
      ]
    },
    {
      "cell_type": "code",
      "execution_count": null,
      "id": "599f0bc9",
      "metadata": {},
      "outputs": [],
      "source": [
        "unique_customers_per_country = int(data.groupby('Country')['CustomerID'].nunique().sort_values(ascending=False).head(1).values[0])\n",
        "\n",
        "print(f\"United Kingdom has the maximum number of unique customers \\\n",
        "with {unique_customers_per_country} customers\")"
      ]
    },
    {
      "cell_type": "code",
      "execution_count": null,
      "id": "a0c26795",
      "metadata": {},
      "outputs": [],
      "source": [
        "data['TotalPrice'].max()"
      ]
    },
    {
      "cell_type": "markdown",
      "id": "fc356316",
      "metadata": {
        "id": "fc356316"
      },
      "source": [
        "2.5. Visualize the distribution of 'TotalPrice' using a histogram.\n",
        "\n"
      ]
    },
    {
      "cell_type": "code",
      "execution_count": null,
      "id": "82678142",
      "metadata": {
        "colab": {
          "base_uri": "https://localhost:8080/",
          "height": 740
        },
        "id": "82678142",
        "outputId": "89be82e8-a754-4ef3-f473-d3ac36406e18"
      },
      "outputs": [],
      "source": [
        "plt.figure(figsize=(10, 6))\n",
        "plt.hist(data['TotalPrice'], bins=20, color='skyblue', edgecolor='black')\n",
        "plt.title('Distribution of Total Price')\n",
        "plt.xlabel('Total Price')\n",
        "plt.ylabel('Frequency')\n",
        "plt.figtext(0.1,-0.1,\"NOTE: Most of the total prices range from \\\\$0 - \\\\$168,469.6. Negative total prices indicates that \\\n",
        "the product was returned and refunded given to the customer\",wrap=True,fontsize=10)\n",
        "plt.show()"
      ]
    },
    {
      "cell_type": "markdown",
      "id": "f535b887",
      "metadata": {
        "id": "f535b887"
      },
      "source": [
        "## 3. Data Aggregation:\n"
      ]
    },
    {
      "cell_type": "markdown",
      "id": "35fdb78c",
      "metadata": {
        "id": "35fdb78c"
      },
      "source": [
        "3.1. Compute the total sales (TotalPrice) per country.\n",
        "\n"
      ]
    },
    {
      "cell_type": "code",
      "execution_count": null,
      "id": "9fb1dd2d",
      "metadata": {
        "colab": {
          "base_uri": "https://localhost:8080/",
          "height": 1000
        },
        "id": "9fb1dd2d",
        "outputId": "20517073-ef55-47af-d485-2681bd4c2e5b"
      },
      "outputs": [],
      "source": [
        "total_sales_per_country = data.groupby('Country')['TotalPrice'].sum().sort_values(ascending=False)\n",
        "total_sales_per_country = pd.DataFrame(total_sales_per_country)\n",
        "total_sales_per_country"
      ]
    },
    {
      "cell_type": "markdown",
      "id": "2afaf60f",
      "metadata": {
        "id": "2afaf60f"
      },
      "source": [
        "3.2. Identify the month in which the sales were highest.\n",
        "\n"
      ]
    },
    {
      "cell_type": "code",
      "execution_count": null,
      "id": "6be57a38",
      "metadata": {},
      "outputs": [],
      "source": [
        "highest_sales_month = data.groupby(data['InvoiceDate'].dt.month)['TotalPrice'].sum().sort_values(ascending=False)\n",
        "highest_sales_month = pd.DataFrame(highest_sales_month)\n",
        "\n",
        "highest_month = data.groupby(data['InvoiceDate'].dt.month)['TotalPrice'].sum().sort_values(ascending=False)\n",
        "\n",
        "\n",
        "print(f'Month {int(highest_month.keys()[0])} (November) has the highest sales of ${int(highest_month.values[0])}')\n",
        "highest_sales_month"
      ]
    },
    {
      "cell_type": "markdown",
      "id": "e0a409f9",
      "metadata": {
        "id": "e0a409f9"
      },
      "source": [
        "3.3. Compute the average unit price per product.\n",
        "\n"
      ]
    },
    {
      "cell_type": "code",
      "execution_count": null,
      "id": "5d10b644",
      "metadata": {
        "colab": {
          "base_uri": "https://localhost:8080/",
          "height": 544
        },
        "id": "5d10b644",
        "outputId": "2d416b99-54ef-44b0-d507-f7b7075b0081"
      },
      "outputs": [],
      "source": [
        "average_unit_price_per_product = data.groupby('StockCode')['UnitPrice'].mean().sort_values(ascending=False).reset_index(name='Average price per product')\n",
        "average_unit_price_per_product = pd.DataFrame(average_unit_price_per_product)\n",
        "average_unit_price_per_product"
      ]
    },
    {
      "cell_type": "markdown",
      "id": "e7569b06",
      "metadata": {
        "id": "e7569b06"
      },
      "source": [
        "3.4. Compute the total quantity sold per customer.\n",
        "\n"
      ]
    },
    {
      "cell_type": "code",
      "execution_count": null,
      "id": "8771ec72",
      "metadata": {
        "colab": {
          "base_uri": "https://localhost:8080/",
          "height": 544
        },
        "id": "8771ec72",
        "outputId": "19d5b4a7-6cb7-4b8e-e16c-370e6f693812"
      },
      "outputs": [],
      "source": [
        "total_qty_per_customer = data.groupby('CustomerID')['Quantity'].sum().sort_values(ascending=False).reset_index(name='Total Quantity sold')\n",
        "total_qty_per_customer = pd.DataFrame(total_qty_per_customer)\n",
        "total_qty_per_customer"
      ]
    },
    {
      "cell_type": "markdown",
      "id": "7066f2e2",
      "metadata": {
        "id": "7066f2e2"
      },
      "source": [
        "## 4. Data Visualization:\n"
      ]
    },
    {
      "cell_type": "markdown",
      "id": "d69e475a",
      "metadata": {
        "id": "d69e475a"
      },
      "source": [
        "4.1. Create a bar chart showcasing the sales (TotalPrice) for each country.\n",
        "\n"
      ]
    },
    {
      "cell_type": "code",
      "execution_count": null,
      "id": "cd07b918",
      "metadata": {
        "colab": {
          "base_uri": "https://localhost:8080/",
          "height": 850
        },
        "id": "cd07b918",
        "outputId": "daea82ad-3c52-44b1-96ba-e5027e300e26"
      },
      "outputs": [],
      "source": [
        "# Create a bar chart\n",
        "\n",
        "total_sales_per_country = data.groupby('Country')['TotalPrice'].sum().sort_values(ascending=False)\n",
        "plt.figure(figsize=(12, 6))\n",
        "total_sales_per_country.sort_values(ascending=True).plot(kind='barh', color='skyblue', edgecolor='black')\n",
        "plt.title('Total Sales per Country')\n",
        "plt.xlabel('Total Sales (TotalPrice)')\n",
        "plt.ylabel('Country')\n",
        "plt.yticks()\n",
        "plt.xticks(rotation=0)\n",
        "plt.text(1,-11.000005,'NOTE: 1e6 on the x axis representes million \\n\\nUnited Kingdom has more sales than any other country combined', fontsize=12)\n",
        "plt.tight_layout()\n",
        "plt.show()\n"
      ]
    },
    {
      "cell_type": "markdown",
      "id": "5286d7d4",
      "metadata": {},
      "source": [
        "## Excluding United Kingdom"
      ]
    },
    {
      "cell_type": "code",
      "execution_count": null,
      "id": "4968cdff",
      "metadata": {},
      "outputs": [],
      "source": [
        "excluding_uk = data.groupby('Country')['TotalPrice'].sum().sort_values(ascending=False).iloc[1:]\n",
        "\n",
        "\n",
        "plt.figure(figsize=(12, 6))\n",
        "excluding_uk.sort_values(ascending=True).plot(kind='barh', color='skyblue', edgecolor='black')\n",
        "plt.title('Total Sales per Country Excluding United Kingdom')\n",
        "plt.xlabel('Total Sales (TotalPrice)')\n",
        "plt.ylabel('Country')\n",
        "plt.yticks()\n",
        "plt.xticks(rotation=0)\n",
        "plt.text(1,-11.000005,'NOTE: By omitting United Kingdom, we see sales from the top countries are not all that far from each other. \\nThere may be an opportunity for marketing campaigns in \\\n",
        "those countries to increase sales to potentially same level as the United Kingdom', fontsize=12,wrap=True)\n",
        "plt.tight_layout()\n",
        "plt.show()"
      ]
    },
    {
      "cell_type": "markdown",
      "id": "6d99b512",
      "metadata": {
        "id": "6d99b512"
      },
      "source": [
        "4.2. Plot a line graph to showcase the trend of sales over time.\n",
        "\n"
      ]
    },
    {
      "cell_type": "code",
      "execution_count": null,
      "id": "08bb8ff0",
      "metadata": {
        "colab": {
          "base_uri": "https://localhost:8080/",
          "height": 662
        },
        "id": "08bb8ff0",
        "outputId": "4dfe9e41-2884-475d-cb65-a097a17045bc"
      },
      "outputs": [],
      "source": [
        "# Group by date and sum TotalPrice\n",
        "sales_over_time = data.groupby(data['InvoiceDate'].dt.to_period('M'))['TotalPrice'].sum()\n",
        "\n",
        "# Create a line graph\n",
        "plt.figure(figsize=(12, 6))\n",
        "sales_over_time.plot(kind='line', color='blue')\n",
        "plt.title('Sales Trend Over Time')\n",
        "plt.xlabel(None)\n",
        "plt.ylabel('Total Sales (TotalPrice)')\n",
        "plt.xticks(rotation=0)\n",
        "plt.tight_layout()\n",
        "plt.show()\n"
      ]
    },
    {
      "cell_type": "markdown",
      "id": "4d60870d",
      "metadata": {
        "id": "4d60870d"
      },
      "source": [
        "4.3. Use a scatter plot to visualize the relationship between UnitPrice and Quantity.\n",
        "\n"
      ]
    },
    {
      "cell_type": "code",
      "execution_count": null,
      "id": "fbd2c0ba",
      "metadata": {},
      "outputs": [],
      "source": [
        "data[data['UnitPrice']<0]"
      ]
    },
    {
      "cell_type": "code",
      "execution_count": null,
      "id": "b117ca75",
      "metadata": {
        "colab": {
          "base_uri": "https://localhost:8080/",
          "height": 783
        },
        "id": "b117ca75",
        "outputId": "1eb891c0-aff7-4b6f-aae7-555f1aac6bab"
      },
      "outputs": [],
      "source": [
        "plt.figure(figsize=(10, 6))\n",
        "sns.scatterplot(data=data, x='UnitPrice', y='Quantity', alpha=0.6, color='purple')\n",
        "plt.title('Relationship Between Unit Price and Quantity Sold')\n",
        "plt.xlabel('Unit Price')\n",
        "plt.ylabel('Quantity')\n",
        "plt.text(-11500,-150001,'NOTE: Negative values represent returned items, with each negative quantity matched \\\n",
        "by a corresponding positive quantity.',fontsize=12,wrap=True)\n",
        "plt.tight_layout()\n",
        "plt.show()\n"
      ]
    },
    {
      "cell_type": "markdown",
      "id": "3ac1231c",
      "metadata": {
        "id": "3ac1231c"
      },
      "source": [
        "4.4. Plot a heatmap to display the correlation between numeric columns.\n",
        "\n"
      ]
    },
    {
      "cell_type": "markdown",
      "id": "5c220f7e",
      "metadata": {},
      "source": [
        "Quantity and TotalPrice (0.89): There's a strong positive correlation between these two variables. This makes sense because as the quantity increases, the total price generally increases as well.\n",
        "UnitPrice and TotalPrice (-0.16): There’s a small negative correlation between UnitPrice and TotalPrice, meaning that an increase in unit price may slightly decrease the total price, though the effect is weak."
      ]
    },
    {
      "cell_type": "code",
      "execution_count": null,
      "id": "16e7f8fa",
      "metadata": {},
      "outputs": [],
      "source": [
        "numeric_df = data.select_dtypes(include=['float64','int64'])\n",
        "numeric_df.drop('CustomerID',axis=1,inplace=True) # dropped customer ID. Although it is numeric, it doesn't add any value to the correlation as it's an identifier\n",
        "correlation_matrix = numeric_df.corr()\n",
        "\n",
        "# Create a heatmap\n",
        "plt.figure(figsize=(10, 6))\n",
        "sns.heatmap(correlation_matrix, annot=True, fmt='.2f', cmap='coolwarm', cbar=True)\n",
        "plt.title('Correlation Heatmap of Numeric Columns')\n",
        "plt.tight_layout()\n",
        "plt.text(0.1,3.8,\"1) Quantity and TotalPrice (0.89): There's a strong positive correlation between these two variables. This makes sense because as the quantity increases, the total price generally increases as well.\\\n",
        "\\n\\n 2) UnitPrice and TotalPrice (-0.16): There’s a small negative correlation between UnitPrice and TotalPrice, meaning that an increase in unit price may slightly decrease the total price, though the effect is weak.\",wrap=True,fontsize=12)\n",
        "plt.show()"
      ]
    },
    {
      "cell_type": "markdown",
      "id": "06a454c0",
      "metadata": {
        "id": "06a454c0"
      },
      "source": [
        "## 5. Advanced Analysis:\n"
      ]
    },
    {
      "cell_type": "markdown",
      "id": "625251f7",
      "metadata": {
        "id": "625251f7"
      },
      "source": [
        "5.1. Segment customers based on their purchase history (Consider factors like frequency of purchases, etc.).\n",
        "\n"
      ]
    },
    {
      "cell_type": "markdown",
      "id": "b33e2163",
      "metadata": {},
      "source": [
        "* Segmenting customers based on number of purchases (frequency).\n",
        "\n",
        "* Frequency above 1000 and below 100 are high and low respectively, anything in between is moderate\n"
      ]
    },
    {
      "cell_type": "code",
      "execution_count": null,
      "id": "d5da8df8",
      "metadata": {},
      "outputs": [],
      "source": [
        "frequency = data.groupby('CustomerID')['InvoiceNo'].count().reset_index(name='invoice_count')\n",
        "\n",
        "\n",
        "def label_count(count):\n",
        "    if count >= 100:\n",
        "        return 'high'\n",
        "    elif count > 0 and count <= 50:\n",
        "        return 'low'\n",
        "    else:\n",
        "        return 'medium'\n",
        "\n",
        "\n",
        "data['labels']  = frequency['invoice_count'].apply(label_count)\n",
        "data['labels'].value_counts().plot(kind='bar',x='labels')\n",
        "plt.xticks(rotation=0)\n",
        "plt.title(\"Customer Segments\")\n",
        "plt.ylabel('Count')\n",
        "plt.show()"
      ]
    },
    {
      "cell_type": "markdown",
      "id": "c9cf22cf",
      "metadata": {
        "id": "c9cf22cf"
      },
      "source": [
        "5.3. For the top 5 products (by quantity sold), visualize their monthly sales trend.\n",
        "\n"
      ]
    },
    {
      "cell_type": "code",
      "execution_count": null,
      "id": "91ff36ec",
      "metadata": {},
      "outputs": [],
      "source": [
        "# To get top 5 products by quantity sold\n",
        "highest_quantity = data.groupby('StockCode')['Quantity'].sum().sort_values(ascending=False).head(5).keys()\n",
        "highest_quantity = list(highest_quantity)\n",
        "highest_quantity = data[data['StockCode'].isin(highest_quantity)]\n",
        "\n",
        "# to get total sales of top 5 products as the months go by\n",
        "# to get monthly total sales of top 5 products\n",
        "monthly_sales = highest_quantity.groupby([highest_quantity['InvoiceDate'].dt.to_period('M'),'StockCode'])['Quantity'].sum().unstack()\n",
        "\n",
        "#plot\n",
        "monthly_sales.plot(kind='line',figsize=(10,6),marker='o')\n",
        "plt.ylabel('Quantity Sold')\n",
        "plt.xlabel('Time Period')\n",
        "plt.title('Monthly Sales of the Top 5 Produts by Quantity Sold')\n",
        "plt.legend(title='StockCode')\n",
        "plt.show()"
      ]
    },
    {
      "cell_type": "markdown",
      "id": "711370b6",
      "metadata": {
        "id": "711370b6"
      },
      "source": [
        "# Advanced Machine Learning Analysis with Retail Dataset\n",
        "\n"
      ]
    },
    {
      "cell_type": "markdown",
      "id": "c7bce6ec",
      "metadata": {
        "id": "c7bce6ec"
      },
      "source": [
        "## 6. Feature Engineering:"
      ]
    },
    {
      "cell_type": "markdown",
      "id": "925558ca",
      "metadata": {
        "id": "925558ca"
      },
      "source": [
        "6.1 Extract 'Year', 'Month', 'Day', and 'Hour' from the InvoiceDate and create separate columns for each.\n"
      ]
    },
    {
      "cell_type": "code",
      "execution_count": null,
      "id": "b3c6cc29",
      "metadata": {
        "colab": {
          "base_uri": "https://localhost:8080/"
        },
        "id": "b3c6cc29",
        "outputId": "0bd8484d-a78f-4b88-b27a-4dbc3e0c477f"
      },
      "outputs": [],
      "source": [
        "# Extract 'Year', 'Month', 'Day', and 'Hour' from 'InvoiceDate' and create new columns\n",
        "data['Year'] = data['InvoiceDate'].dt.year\n",
        "data['Month'] = data['InvoiceDate'].dt.month\n",
        "data['Day'] = data['InvoiceDate'].dt.day\n",
        "data['Hour'] = data['InvoiceDate'].dt.hour\n",
        "\n",
        "# Display the updated DataFrame\n",
        "data[['InvoiceDate', 'Year', 'Month', 'Day', 'Hour']].head()\n"
      ]
    },
    {
      "cell_type": "markdown",
      "id": "f6b9648a",
      "metadata": {
        "id": "f6b9648a"
      },
      "source": [
        "6.2 Create a new column `'ReturnFlag'` where if `'Quantity'` is less than zero, it's 1, otherwise 0. This will indicate whether an item was returned.\n"
      ]
    },
    {
      "cell_type": "code",
      "execution_count": null,
      "id": "d1ee98b1",
      "metadata": {},
      "outputs": [],
      "source": [
        "def returned_items(items):\n",
        "    if items < 0:\n",
        "        return 1\n",
        "    else:\n",
        "        return 0 \n",
        "    \n",
        "data['ReturnFlag'] = data['Quantity'].apply(returned_items)\n",
        "# OR  data['ReturnFlag'] = data['Quantity'].apply(lambda x: 1 if x <0 else 0)\n",
        "data.sample(3)"
      ]
    },
    {
      "cell_type": "markdown",
      "id": "8205d375",
      "metadata": {
        "id": "8205d375"
      },
      "source": [
        "## 7. Customer Segmentation using Clustering:"
      ]
    },
    {
      "cell_type": "markdown",
      "id": "7a6b42c7",
      "metadata": {
        "id": "7a6b42c7"
      },
      "source": [
        "7.1. Create a matrix RFM (Recency, Frequency, Monetary) for each customer:\n",
        "- Recency: Number of days since the last purchase\n",
        "- Frequency: Number of purchases\n",
        "- Monetary: Total money spent"
      ]
    },
    {
      "cell_type": "code",
      "execution_count": null,
      "id": "f43f9ba7",
      "metadata": {},
      "outputs": [],
      "source": [
        "# 1 Segmentation based on frequency\n",
        "frequency = data.groupby('CustomerID')['InvoiceNo'].count().reset_index(name='invoice_count')\n",
        "\n",
        "data = data.merge(frequency,on='CustomerID',how='left')\n",
        "data = data.rename(columns={'invoice_count':'frequency'})\n",
        "\n",
        "\n",
        "\n",
        "# 2 Segmentation based on monetary value\n",
        "monetary = data.groupby('CustomerID')['TotalPrice'].sum().reset_index(name='total_spent')\n",
        "\n",
        "data = data.merge(monetary,how='left',on='CustomerID')\n",
        "data = data.rename(columns={'total_spent':'monetary'})\n",
        "data.sample(5)\n",
        "\n",
        "\n",
        "# 3 segmentation based on recency\n",
        "last_purchase_date = data['InvoiceDate'].max()\n",
        "last_purchase_date = pd.to_datetime(last_purchase_date)\n",
        "\n",
        "\n",
        "most_recent_purchase = data.groupby('CustomerID')['InvoiceDate'].max()\n",
        "most_recent_purchase = pd.DataFrame(most_recent_purchase)\n",
        "most_recent_purchase['recency'] = (last_purchase_date - most_recent_purchase['InvoiceDate']).dt.days\n",
        "most_recent_purchase.drop('InvoiceDate',axis=1,inplace=True)\n",
        "\n",
        "\n",
        "\n",
        "data = data.merge(most_recent_purchase,on='CustomerID',how='left')\n",
        "\n",
        "data.sample(3)"
      ]
    },
    {
      "cell_type": "markdown",
      "id": "d919df35",
      "metadata": {
        "id": "d919df35"
      },
      "source": [
        "7.2. Normalize the RFM matrix with StandardScaler:"
      ]
    },
    {
      "cell_type": "code",
      "execution_count": 28,
      "id": "75bc406d",
      "metadata": {},
      "outputs": [],
      "source": [
        "# dropping columns with null customerid\n",
        "data.dropna(subset='CustomerID',inplace=True)\n",
        "\n",
        "rfm = data.groupby('CustomerID').agg({\n",
        "    'InvoiceDate': lambda x: (last_purchase_date - x.max()).days,\n",
        "    'InvoiceNo': 'count',\n",
        "    'TotalPrice': 'sum'\n",
        "})"
      ]
    },
    {
      "cell_type": "code",
      "execution_count": null,
      "id": "a4245d18",
      "metadata": {
        "colab": {
          "base_uri": "https://localhost:8080/",
          "height": 292
        },
        "id": "a4245d18",
        "outputId": "8c91c831-8d5d-4597-f141-255401acb142"
      },
      "outputs": [],
      "source": [
        "# Instantiate the StandardScaler\n",
        "scaler = StandardScaler()\n",
        "\n",
        "# Fit and transform the RFM matrix\n",
        "scaled = scaler.fit_transform(rfm)\n",
        "\n",
        "# Convert the scaled values back into a DataFrame with the original columns\n",
        "rfm_normalized = pd.DataFrame(scaled,columns=rfm.columns,index=rfm.index)#.reset_index()\n",
        "\n",
        "# Display the normalized RFM matrix\n",
        "rfm_normalized.head()"
      ]
    },
    {
      "cell_type": "markdown",
      "id": "f405b1e2",
      "metadata": {
        "id": "f405b1e2"
      },
      "source": [
        "7.3. Use KMeans clustering to segment customers into different groups. Determine the optimal number of clusters using the Elbow method."
      ]
    },
    {
      "cell_type": "code",
      "execution_count": null,
      "id": "cc267efe",
      "metadata": {
        "colab": {
          "base_uri": "https://localhost:8080/",
          "height": 542
        },
        "id": "cc267efe",
        "outputId": "845be305-1d44-4ea4-eea6-5744c01260bb"
      },
      "outputs": [],
      "source": [
        "# determining optimal K value\n",
        "\n",
        "# List to store the sum of squared distances (inertia) for each k\n",
        "wcss = [] # within-cluster sum of squares\n",
        "\n",
        "# Testing k values from 1 to 10\n",
        "for k in range(1, 11):\n",
        "    kmeans = KMeans(n_clusters=k, random_state=42)\n",
        "    kmeans.fit(rfm_normalized)\n",
        "    wcss.append(kmeans.inertia_)\n",
        "\n",
        "# Plot the Elbow graph to visualize the optimal number of clusters\n",
        "plt.plot(range(1,11),wcss,marker='o')\n",
        "plt.title('Elbow Method for Optimal k')\n",
        "plt.xlabel('Number of Clusters')\n",
        "plt.ylabel('WCSS')\n",
        "plt.text(-1,-4000,'The optimal number is 3 because it is the point before the curve starts to flatten. That means, adding an extra cluster marginally \\\n",
        "reduces the WCSS and very little diminishing returns. \\n\\nDataset will be split into 3 clusters (groups).',wrap=True)\n",
        "plt.show()\n",
        "\n"
      ]
    },
    {
      "cell_type": "code",
      "execution_count": null,
      "id": "7e789991",
      "metadata": {
        "colab": {
          "base_uri": "https://localhost:8080/"
        },
        "id": "7e789991",
        "outputId": "d0bc9e44-d174-439d-9488-3b7b82e25841"
      },
      "outputs": [],
      "source": [
        "# Perform KMeans clustering with the optimal number of clusters\n",
        "optimal_k = 3\n",
        "kmeans = KMeans(n_clusters=optimal_k, random_state=42)\n",
        "rfm_normalized['Cluster'] = kmeans.fit_predict(rfm_normalized)\n",
        "\n",
        "# Add the cluster labels to the original RFM table\n",
        "rfm['Cluster'] = rfm_normalized['Cluster']\n",
        "\n",
        "# Display the RFM table with cluster labels\n",
        "rfm.sample(3)\n"
      ]
    },
    {
      "cell_type": "code",
      "execution_count": null,
      "id": "196d483f",
      "metadata": {},
      "outputs": [],
      "source": [
        "#pip install plotly"
      ]
    },
    {
      "cell_type": "code",
      "execution_count": null,
      "id": "4bdd854c",
      "metadata": {},
      "outputs": [],
      "source": [
        "# import plotly.express as px\n",
        "\n",
        "# fig = px.scatter(rfm, x='InvoiceDate', y='TotalPrice', color='Cluster', hover_data=['InvoiceDate', 'TotalPrice'])\n",
        "# fig.show()\n"
      ]
    },
    {
      "cell_type": "code",
      "execution_count": null,
      "id": "420f7630",
      "metadata": {
        "colab": {
          "base_uri": "https://localhost:8080/",
          "height": 619
        },
        "id": "420f7630",
        "outputId": "d77139d5-f07f-4ed8-b4e7-7c289ba07cb1"
      },
      "outputs": [],
      "source": [
        "# Plot the segments\n",
        "plt.figure(figsize=(10, 6))\n",
        "sns.scatterplot(data=rfm, x = 'InvoiceDate', y = 'TotalPrice', hue='Cluster')\n",
        "#sns.countplot(x='Cluster', data=rfm, order=rfm['Cluster'].value_counts().index)\n",
        "plt.title('Customer Cluster')\n",
        "plt.xlabel('Recency (Days)')\n",
        "plt.ylabel('Total Price')\n",
        "plt.text(-0.5,-150050,'$\\mathbf{Customer\\ type\\ 2}$ generally are customers that spend the most and have the lowest recency. Theses customers have bought products recently.\\n\\\n",
        "$\\mathbf{Customer\\ type\\ 1}$ also have low recency but spend significantly less \\n\\\n",
        "$\\mathbf{Customer\\ type\\ 0}$ have the highest recency and spend the least amount',wrap=True)\n",
        "plt.show()"
      ]
    },
    {
      "cell_type": "markdown",
      "id": "f7f43733",
      "metadata": {},
      "source": [
        "# Several recommendations can be drawn from this graph.\n",
        "\n",
        "1. Marketing campaigns can be arranged specifically for customer type 2. This is an attempt to improve their spendimg habits so they eventually upgrade to customer type 2.\n",
        "\n",
        "2. Offering premium services to customers in the Cluster 2 category could encourage Customer Type 1 to upgrade their purchase habits. This way, Cluster 2 customers can benefit from these services and become more profitable for the business\n",
        "\n",
        "3. Customer type 2 are the least profitable for the business. They have high recency, meaning they haven't visited in a long time, and their total spend (total price) is almost zero. These customers likely only shop during discount or giveaway periods. They could be targeted specifically during sales seasons."
      ]
    },
    {
      "cell_type": "markdown",
      "id": "8a2cc12d",
      "metadata": {
        "id": "8a2cc12d"
      },
      "source": [
        "## 8. Predictive Analytics:"
      ]
    },
    {
      "cell_type": "markdown",
      "id": "1bde92ff",
      "metadata": {
        "id": "1bde92ff"
      },
      "source": [
        "8.1. Can you predict if a customer will return an item? Use the 'ReturnFlag' as the target variable and build a classification model.\n",
        "\n",
        "- Split data into training and test sets.\n",
        "- Use features like 'UnitPrice', 'Quantity', etc.\n",
        "- Evaluate model accuracy, precision, recall, and F1-score."
      ]
    },
    {
      "cell_type": "code",
      "execution_count": null,
      "id": "a4226a79",
      "metadata": {},
      "outputs": [],
      "source": [
        "# Split the data into features and target\n",
        "features = data[['Quantity','UnitPrice','TotalPrice','Year','Month','Day','Hour','frequency','monetary','recency']]\n",
        "target = data['ReturnFlag']\n",
        "\n",
        "# split the data for training and testing\n",
        "x_train,x_test,y_train,y_test = train_test_split(features,target,test_size=0.2,random_state= 100)\n",
        "\n",
        "# using Random Classifier\n",
        "rfc = RandomForestClassifier(n_estimators=3,random_state=100)\n",
        "\n",
        "# training the model\n",
        "rfc.fit(x_train,y_train)\n",
        "\n",
        "# making prediction based on trained data\n",
        "prediction = rfc.predict(x_test)\n",
        "\n",
        "#Evaluation\n",
        "rfc.score(x_test,y_test)\n",
        "acc_score = accuracy_score(y_test,prediction)\n",
        "precision = precision_score(y_test,prediction,average='macro')\n",
        "recall = recall_score(y_test,prediction,average='macro')\n",
        "f1 = f1_score(y_test,prediction,average='macro')\n",
        "\n",
        "print(f'accuaracy score is {acc_score*100}%')\n",
        "print(f'precision score is {precision*100}%')\n",
        "print(f'recall is {recall*100}%')\n",
        "print(f'F1 score is {f1*100}%')"
      ]
    },
    {
      "cell_type": "markdown",
      "id": "76d2e65d",
      "metadata": {},
      "source": [
        "#### The above model was able to predict if a customer will return a product with a high accuracy of 100%"
      ]
    },
    {
      "cell_type": "markdown",
      "id": "78347efb",
      "metadata": {
        "id": "78347efb"
      },
      "source": [
        "8.2. Predict the `'TotalPrice'` for an invoice using regression models.\n",
        "- Consider relevant features and handle categorical ones appropriately (e.g., with one-hot encoding).\n",
        "- Split data, train the model, and evaluate its performance using metrics like MAE, RMSE, and R^2."
      ]
    },
    {
      "cell_type": "code",
      "execution_count": null,
      "id": "30e6c9d8",
      "metadata": {},
      "outputs": [],
      "source": [
        "# setting the feature variables\n",
        "features = data[['Quantity','UnitPrice','Country','Year','Month','Day','Hour','ReturnFlag']]\n",
        "\n",
        "# One-hot encoding\n",
        "features = pd.get_dummies(features)\n",
        "\n",
        "# Values from One-hot encoding returns True and False. Converted to integer to return 0 and 1\n",
        "features = features.astype('int')\n",
        "\n",
        "# setting target Variable\n",
        "target = data['TotalPrice']\n",
        "\n",
        "# splitting the data\n",
        "x_train,x_test,y_train,y_test = train_test_split(features,target,test_size=0.2,random_state=100)\n",
        "\n",
        "# initializing the model\n",
        "rf = RandomForestRegressor(n_estimators=3,random_state=100)\n",
        "\n",
        "# training the model\n",
        "rf.fit(x_train,y_train)\n",
        "\n",
        "# Using trained model to predict test dataset\n",
        "prediction = rf.predict(x_test)\n",
        "\n",
        "mae = mean_absolute_error(y_test,prediction)\n",
        "rmse = root_mean_squared_error(y_test,prediction)\n",
        "R_square = rf.score(x_test,y_test)\n",
        "\n",
        "print(f'Mean absolute error is {mae:.2f}')\n",
        "print(f'Root mean square error is {rmse:.2f}')\n",
        "print(f'R square is {R_square:.2f}%')\n"
      ]
    },
    {
      "cell_type": "markdown",
      "id": "43f10527",
      "metadata": {},
      "source": [
        "#### Our model has an R squared of 0.71 which means our model explains 71% of the varaition in Total price, however, 29% remains unexplained"
      ]
    },
    {
      "cell_type": "code",
      "execution_count": null,
      "id": "b0659abe",
      "metadata": {},
      "outputs": [],
      "source": []
    },
    {
      "cell_type": "markdown",
      "id": "979bbed3",
      "metadata": {
        "id": "979bbed3"
      },
      "source": [
        "## 9. Association Rule Mining:\n",
        "- 9.1 Identify frequently bought products together. Use the Apriori algorithm to extract meaningful association rules.\n",
        "- 9.2 Based on the rules, suggest product bundling strategies to the retail store."
      ]
    },
    {
      "cell_type": "code",
      "execution_count": 37,
      "id": "9034a617",
      "metadata": {
        "colab": {
          "base_uri": "https://localhost:8080/",
          "height": 261
        },
        "id": "9034a617",
        "outputId": "7d102d0c-7f17-4742-de2e-edc3002af4b6"
      },
      "outputs": [],
      "source": [
        "# generally, bundles were identified but their frequency was very low, < 0.0001% of transactions\n",
        "\n",
        "# i.e minimum support threshold (e.g., 0.01 means items bought together in at least 1% of transactions)\n"
      ]
    },
    {
      "cell_type": "code",
      "execution_count": 38,
      "id": "d2fffb3f",
      "metadata": {
        "colab": {
          "base_uri": "https://localhost:8080/"
        },
        "id": "d2fffb3f",
        "outputId": "700c7b3f-7116-4f02-e669-c359e10aa1af"
      },
      "outputs": [],
      "source": [
        "sample = data.sample(1000)\n",
        "sample.drop(['frequency','monetary','recency'],axis=1,inplace=True)\n",
        "\n",
        "\n",
        "# using the Apriori Algorithm\n",
        "\n",
        "# Group by InvoiceNo and StockCode, then pivot to get the binary values for product presence\n",
        "basket = (sample.groupby(['InvoiceNo', 'StockCode'])['Quantity']\n",
        "          .sum().unstack().reset_index().fillna(0)\n",
        "          .set_index('InvoiceNo'))\n",
        "\n",
        "# Convert quantities to binary (0 or 1)\n",
        "basket = basket.map(lambda x: 1 if x > 0 else 0)\n",
        "\n"
      ]
    },
    {
      "cell_type": "code",
      "execution_count": null,
      "id": "7503522a",
      "metadata": {
        "colab": {
          "base_uri": "https://localhost:8080/"
        },
        "id": "7503522a",
        "outputId": "54e6c791-e3aa-4d7f-cca4-5edad38208ba"
      },
      "outputs": [],
      "source": [
        "# Applying Apriori\n",
        "from mlxtend.frequent_patterns import apriori, association_rules\n",
        "\n",
        "# Apply the Apriori algorithm with a minimum support threshold\n",
        "# minimum support threshold (e.g., 0.01 means items bought together in at least 1% of transactions)\n",
        "\n",
        "frequent_itemsets = apriori(basket, min_support=0.000001, use_colnames=True)\n",
        "print(' An itemset is a group of one or more items. The Apriori algorithm \\\n",
        "identifies itemsets that appear together frequently in a dataset based on a minimum support threshold.\\n \\\n",
        "Below are some of the itemsets identified.')\n",
        "frequent_itemsets.sample(5)\n",
        "#Frequent Itemsets: An itemset is a group of one or more items. The Apriori algorithm \n",
        "# identifies itemsets that appear together frequently in a dataset based on a minimum support threshold.\n",
        "\n",
        "# these are itemsets, they can be 1 or more. so it's not wrong to see only 1 itemset\n",
        "#frequent_itemsets[frequent_itemsets['itemsets'].apply(lambda x: len(x)>1)]\n",
        "\n"
      ]
    },
    {
      "cell_type": "code",
      "execution_count": null,
      "id": "7e762eef",
      "metadata": {},
      "outputs": [],
      "source": [
        "# Generate association rules\n",
        "# rules = association_rules(frequent_itemsets, metric=\"confidence\", min_threshold=0.8)\n",
        "\n",
        "rules = association_rules(frequent_itemsets, metric=\"lift\", min_threshold=0.01)\n",
        "print('After generating all frequent itemsets, the algorithm derives association rules that meet a minimum confidence threshold. \\n\\\n",
        "Meaning - If Stock Code A (antecedents) is purchased, Stock Code B (consequents) is also likely to be purchased. ')\n",
        "rules.sample(5)\n"
      ]
    },
    {
      "cell_type": "markdown",
      "id": "6be65504",
      "metadata": {},
      "source": [
        "- 9.2 Based on the rules, suggest product bundling strategies to the retail store."
      ]
    },
    {
      "cell_type": "code",
      "execution_count": null,
      "id": "a57db9c0",
      "metadata": {
        "colab": {
          "base_uri": "https://localhost:8080/"
        },
        "id": "a57db9c0",
        "outputId": "fe2259eb-b58a-46d8-e3e2-8c2a5b5fac83"
      },
      "outputs": [],
      "source": [
        "# Filter the rules with high confidence\n",
        "high_confidence_rules = rules[rules['confidence'] >= 0.8] # selected minimum confidence of 80%\n",
        "\n",
        "# Display the filtered rules\n",
        "print('Stock Code A (antecedents) and Stock Code B (consequents) can be served as bundle packages at the retail stores')\n",
        "high_confidence_rules.sample(5)"
      ]
    },
    {
      "cell_type": "markdown",
      "id": "94407ec3",
      "metadata": {
        "id": "94407ec3"
      },
      "source": [
        "# Advanced EDA Techniques:"
      ]
    },
    {
      "cell_type": "markdown",
      "id": "66d8d022",
      "metadata": {
        "id": "66d8d022"
      },
      "source": [
        "10. Pareto Analysis (80/20 Rule):\n",
        "- Identify the 20% of the products that generate 80% of the revenue."
      ]
    },
    {
      "cell_type": "code",
      "execution_count": null,
      "id": "ca9224c3",
      "metadata": {
        "colab": {
          "base_uri": "https://localhost:8080/",
          "height": 478
        },
        "id": "ca9224c3",
        "outputId": "1d7d551c-412b-4924-ef14-ddfeb989b555"
      },
      "outputs": [],
      "source": [
        "# Step 1: Calculate the total revenue for each product\n",
        "product_revenue = data.groupby('StockCode')['TotalPrice'].sum().reset_index()\n",
        "\n",
        "# Step 2: Sort products by revenue in descending order\n",
        "product_revenue = product_revenue.sort_values(by='TotalPrice', ascending=False)\n",
        "\n",
        "# Step 3: Calculate the cumulative revenue percentage\n",
        "product_revenue['cum_revenue_perc'] = product_revenue['TotalPrice'].cumsum() / product_revenue['TotalPrice'].sum()\n",
        "\n",
        "# # Step 4: Identify the top 20% of products that contribute to 80% of the revenue\n",
        "pareto_products = product_revenue[product_revenue['cum_revenue_perc'] <= 0.8]\n",
        "\n",
        "# # Output the Pareto products\n",
        "pareto_products"
      ]
    },
    {
      "cell_type": "markdown",
      "id": "185d0dc6",
      "metadata": {
        "id": "185d0dc6"
      },
      "source": [
        "- Conversely, identify the 20% of the customers responsible for 80% of the sales.    "
      ]
    },
    {
      "cell_type": "code",
      "execution_count": null,
      "id": "26592e7c",
      "metadata": {},
      "outputs": [],
      "source": [
        "# Step 1: Calculate the total sales for each customer\n",
        "customer_sales = data.groupby('CustomerID')['TotalPrice'].sum().reset_index()\n",
        "customer_sales"
      ]
    },
    {
      "cell_type": "code",
      "execution_count": null,
      "id": "555a81f9",
      "metadata": {
        "colab": {
          "base_uri": "https://localhost:8080/",
          "height": 478
        },
        "id": "555a81f9",
        "outputId": "03b776f4-c4a4-4f20-ff8e-6119abe957c7"
      },
      "outputs": [],
      "source": [
        "# Step 1: Calculate the total sales for each customer\n",
        "customer_sales = data.groupby('CustomerID')['TotalPrice'].sum().reset_index()\n",
        "\n",
        "# Step 2: Sort customers by sales in descending order\n",
        "customer_sales = customer_sales.sort_values(by='TotalPrice', ascending=False)\n",
        "\n",
        "# Step 3: Calculate the cumulative sales percentage\n",
        "customer_sales['cum_sales_perc'] = customer_sales['TotalPrice'].cumsum() / customer_sales['TotalPrice'].sum()\n",
        "\n",
        "# Step 4: Identify the top 20% of customers that contribute to 80% of the sales\n",
        "pareto_customers = customer_sales[customer_sales['cum_sales_perc'] <= 0.8]\n",
        "pareto_customers"
      ]
    },
    {
      "cell_type": "markdown",
      "id": "a48c3c78",
      "metadata": {
        "id": "a48c3c78"
      },
      "source": [
        "# Advanced Modeling Techniques:"
      ]
    },
    {
      "cell_type": "markdown",
      "id": "3355bd5f",
      "metadata": {
        "id": "3355bd5f"
      },
      "source": [
        "11. Market Basket Analysis Enhancements:\n",
        "- Dig deeper into association rules. For instance, find rules with a high lift and high confidence.\n",
        "- Analyze antecedents with more than one item, which can give bundled product suggestions."
      ]
    },
    {
      "cell_type": "code",
      "execution_count": null,
      "id": "915f7b44",
      "metadata": {},
      "outputs": [],
      "source": [
        "high_lift_and_high_confidence = rules[(rules['confidence']>0.5) & (rules['lift']>190)]\n",
        "high_lift_and_high_confidence.sample(5)"
      ]
    },
    {
      "cell_type": "code",
      "execution_count": null,
      "id": "552aa134",
      "metadata": {},
      "outputs": [],
      "source": [
        "bundle_suggestion = high_lift_and_high_confidence[high_lift_and_high_confidence['antecedents'].apply(lambda x: len(x) > 1)]\n",
        "bundle_suggestion.sample(2)"
      ]
    },
    {
      "cell_type": "markdown",
      "id": "13cdf266",
      "metadata": {
        "id": "13cdf266"
      },
      "source": [
        "## 12. Product Recommendation Systems:\n",
        "- Develop a system to recommend products to users.\n",
        "- Consider collaborative filtering techniques, matrix factorization, or deep learning-based approaches like neural collaborative filtering."
      ]
    },
    {
      "cell_type": "code",
      "execution_count": null,
      "id": "aB1WD8h5549J",
      "metadata": {
        "colab": {
          "base_uri": "https://localhost:8080/"
        },
        "id": "aB1WD8h5549J",
        "outputId": "0e623a46-fdd3-4d18-8198-9aaa9c602b0c"
      },
      "outputs": [],
      "source": [
        "data['StockCode'].nunique()"
      ]
    },
    {
      "cell_type": "code",
      "execution_count": null,
      "id": "aClxSGBc7YOH",
      "metadata": {
        "colab": {
          "base_uri": "https://localhost:8080/",
          "height": 261
        },
        "id": "aClxSGBc7YOH",
        "outputId": "29deaa63-b8a3-4eca-a575-21d096f17d0d"
      },
      "outputs": [],
      "source": [
        "import pandas as pd\n",
        "\n",
        "def create_unique_stockcode_df(data):\n",
        "\n",
        "    # Aggregate the data by StockCode, removing invoiceNumber\n",
        "    unique_data = data.groupby('StockCode').agg({\n",
        "        'Description': 'first',\n",
        "        'Quantity': 'sum',\n",
        "        'InvoiceDate': 'first',\n",
        "        'UnitPrice': 'mean',\n",
        "        'TotalPrice': 'mean',\n",
        "        'CustomerID': 'first',\n",
        "        'Country': 'first'\n",
        "    }).reset_index()\n",
        "\n",
        "    return unique_data\n",
        "\n",
        "\n",
        "unique_stockcode_df = create_unique_stockcode_df(data)\n",
        "unique_stockcode_df = unique_stockcode_df[unique_stockcode_df['TotalPrice']>0]\n",
        "unique_stockcode_df = unique_stockcode_df.rename(columns={'TotalPrice':'Average Price'})\n",
        "unique_stockcode_df['Average Price'] = unique_stockcode_df['Average Price'].apply(lambda x: f'${x:.2f}')\n",
        "unique_stockcode_df.sample(5)\n"
      ]
    },
    {
      "cell_type": "code",
      "execution_count": 97,
      "id": "29dcdc8c",
      "metadata": {
        "colab": {
          "base_uri": "https://localhost:8080/"
        },
        "id": "29dcdc8c",
        "outputId": "3be9e68a-7ba1-4d21-86d0-9f8b71da8b27"
      },
      "outputs": [],
      "source": [
        "# Product recommendation system : a content based filtering based on similarities in product descriptions\n",
        "\n",
        "# sample = data.sample(frac=0.4, random_state=42)\n",
        "\n",
        "from sklearn.feature_extraction.text import TfidfVectorizer\n",
        "\n",
        "# Initialize the TF-IDF Vectorizer\n",
        "tfidf = TfidfVectorizer(stop_words='english')\n",
        "\n",
        "# Fit and transform the product descriptions\n",
        "tfidf_matrix = tfidf.fit_transform(unique_stockcode_df['Description'])\n"
      ]
    },
    {
      "cell_type": "code",
      "execution_count": null,
      "id": "YcwdhSgUvByq",
      "metadata": {
        "colab": {
          "base_uri": "https://localhost:8080/",
          "height": 135
        },
        "id": "YcwdhSgUvByq",
        "outputId": "58373c98-e831-423e-9de8-3a710831e09d"
      },
      "outputs": [],
      "source": [
        "from sklearn.neighbors import NearestNeighbors\n",
        "\n",
        "# Initialize the Nearest Neighbors model\n",
        "nn = NearestNeighbors(metric='cosine', algorithm='brute')\n",
        "\n",
        "# Fit the model\n",
        "nn.fit(tfidf_matrix)"
      ]
    },
    {
      "cell_type": "code",
      "execution_count": 99,
      "id": "Uk7bljaVzgje",
      "metadata": {
        "colab": {
          "base_uri": "https://localhost:8080/"
        },
        "id": "Uk7bljaVzgje",
        "outputId": "a566ee68-b1ca-43d7-aac9-217e70f9ecb9"
      },
      "outputs": [],
      "source": [
        "def get_recommendations_nn(k=10):\n",
        "    try:\n",
        "        stock_code = input('Please enter stock code here: ')\n",
        "        # Check if the stock code exists in the dataset\n",
        "        if not (unique_stockcode_df['StockCode'] == stock_code).any():\n",
        "            raise ValueError(f\"StockCode {stock_code} not found in the dataset.\")\n",
        "\n",
        "        # Get the index of the product that matches the stock code\n",
        "        idx = unique_stockcode_df[unique_stockcode_df['StockCode'] == stock_code].index\n",
        "\n",
        "        # Ensure the index is within the range of the dataset\n",
        "        if idx >= len(unique_stockcode_df):\n",
        "            raise IndexError(f\"Index {idx} is out of range for the dataset.\")\n",
        "\n",
        "        # Get the TF-IDF vector for the product\n",
        "        query_vector = tfidf_matrix[idx]\n",
        "\n",
        "        # Find the k nearest neighbors\n",
        "        distances, indices = nn.kneighbors(query_vector, n_neighbors=k+1)\n",
        "\n",
        "        # Get the indices of the similar products\n",
        "        similar_indices = indices.flatten()[1:]\n",
        "\n",
        "        # Ensure the indices are within the range of the dataset\n",
        "        similar_indices = [i for i in similar_indices if i < len(unique_stockcode_df)]\n",
        "        #\n",
        "        print(f'Customers that purchase {stock_code} are also interested in some of these products')\n",
        "\n",
        "        # Return the top k most similar products\n",
        "        return unique_stockcode_df.iloc[similar_indices][['StockCode', 'Description', 'Average Price']]\n",
        "\n",
        "    except IndexError as e:\n",
        "        print(f\"IndexError: {e}\")\n",
        "        return pd.DataFrame(columns=['StockCode', 'Description', 'Average Price'])\n",
        "    except ValueError as e:\n",
        "        print(f\"ValueError: {e}\")\n",
        "        return pd.DataFrame(columns=['StockCode', 'Description', 'Average Price'])\n"
      ]
    },
    {
      "cell_type": "code",
      "execution_count": null,
      "id": "eYOfE-IjjcEs",
      "metadata": {
        "colab": {
          "base_uri": "https://localhost:8080/",
          "height": 452
        },
        "id": "eYOfE-IjjcEs",
        "outputId": "dd239a2d-1f5d-4390-aaf0-7ccf1c21849c"
      },
      "outputs": [],
      "source": [
        "# Running this function will request a stock code of interest is inserted\n",
        "get_recommendations_nn()\n",
        "# INSERT 22544"
      ]
    }
  ],
  "metadata": {
    "colab": {
      "provenance": []
    },
    "kernelspec": {
      "display_name": ".venv",
      "language": "python",
      "name": "python3"
    },
    "language_info": {
      "codemirror_mode": {
        "name": "ipython",
        "version": 3
      },
      "file_extension": ".py",
      "mimetype": "text/x-python",
      "name": "python",
      "nbconvert_exporter": "python",
      "pygments_lexer": "ipython3",
      "version": "3.12.7"
    }
  },
  "nbformat": 4,
  "nbformat_minor": 5
}
